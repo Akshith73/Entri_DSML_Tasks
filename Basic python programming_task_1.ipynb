{
  "nbformat": 4,
  "nbformat_minor": 0,
  "metadata": {
    "colab": {
      "provenance": []
    },
    "kernelspec": {
      "name": "python3",
      "display_name": "Python 3"
    },
    "language_info": {
      "name": "python"
    }
  },
  "cells": [
    {
      "cell_type": "markdown",
      "source": [
        "1. Write a Python program to sum all the items in a list.\n"
      ],
      "metadata": {
        "id": "WbWqfjLILpYR"
      }
    },
    {
      "cell_type": "code",
      "execution_count": null,
      "metadata": {
        "id": "IeHCdrS5KBAJ",
        "outputId": "4d057228-9ee4-4287-f618-112b928f4d92",
        "colab": {
          "base_uri": "https://localhost:8080/"
        }
      },
      "outputs": [
        {
          "output_type": "stream",
          "name": "stdout",
          "text": [
            "31\n"
          ]
        }
      ],
      "source": [
        "l=[1,5,8,10,3,4]\n",
        "\n",
        "sum=0\n",
        "for i in l:\n",
        "  sum+=i\n",
        "print(sum)"
      ]
    },
    {
      "cell_type": "markdown",
      "source": [
        "2. Write a Python program to get the largest number from a list.\n"
      ],
      "metadata": {
        "id": "1NgXL_KTLulQ"
      }
    },
    {
      "cell_type": "code",
      "source": [
        "list=[1,5,7,14,3,6]\n",
        "list.sort()\n",
        "list[-1]"
      ],
      "metadata": {
        "id": "W4A2hjGBLsu0",
        "outputId": "4702d9fe-244e-4f47-8b7a-03b1dccf4c29",
        "colab": {
          "base_uri": "https://localhost:8080/"
        }
      },
      "execution_count": null,
      "outputs": [
        {
          "output_type": "execute_result",
          "data": {
            "text/plain": [
              "14"
            ]
          },
          "metadata": {},
          "execution_count": 45
        }
      ]
    },
    {
      "cell_type": "markdown",
      "source": [
        "3. Write a Python program to count the number of strings from a given list of strings. The string length is 2 or more and the first and last characters are the same.\n",
        "\n",
        "```\n",
        "Sample List : ['abc', 'xyz', 'aba', '1221']\n",
        "Expected Result : 2\n",
        "```"
      ],
      "metadata": {
        "id": "azKVRKqWLvtp"
      }
    },
    {
      "cell_type": "code",
      "source": [
        "l=['abc', 'xyz', 'aba', '1221']\n",
        "x=[]\n",
        "for i in l:\n",
        " if len(i)>2 and i[0]==i[-1]:\n",
        "  x.append(i)\n",
        "print(len(x))"
      ],
      "metadata": {
        "id": "4C9UmcCRL1Bp",
        "outputId": "f5876fb2-3451-41ee-d510-5b9ffaf63ca8",
        "colab": {
          "base_uri": "https://localhost:8080/"
        }
      },
      "execution_count": null,
      "outputs": [
        {
          "output_type": "stream",
          "name": "stdout",
          "text": [
            "2\n"
          ]
        }
      ]
    },
    {
      "cell_type": "markdown",
      "source": [
        "4. Write a Python program to remove duplicates from a list.\n"
      ],
      "metadata": {
        "id": "2ZYOfK4rL20r"
      }
    },
    {
      "cell_type": "code",
      "source": [
        "l=[\"car\",\"bike\",\"4\",\"car\",\"5\",\"lorry\",\"4\",\"bike\"]\n",
        "l2=[]\n",
        "for x in l:\n",
        "  if x not in l2:\n",
        "    l2.append(x)\n",
        "print(l2)"
      ],
      "metadata": {
        "id": "A4Et_q6CL3Pb",
        "outputId": "c668ee3e-8197-4c3f-a4fd-aac457a7254f",
        "colab": {
          "base_uri": "https://localhost:8080/"
        }
      },
      "execution_count": null,
      "outputs": [
        {
          "output_type": "stream",
          "name": "stdout",
          "text": [
            "['car', 'bike', '4', '5', 'lorry']\n"
          ]
        }
      ]
    },
    {
      "cell_type": "markdown",
      "source": [
        "5. Write a Python program to check if a list is empty or not.\n"
      ],
      "metadata": {
        "id": "kjtsEf0tL358"
      }
    },
    {
      "cell_type": "code",
      "source": [
        "mylist=[2,5,8,4]\n",
        "if len(mylist)==0:\n",
        "  print(\"list is empty\")\n",
        "else:\n",
        "  print(\"list is not empty\")"
      ],
      "metadata": {
        "id": "e1C-5rk7L5OT",
        "colab": {
          "base_uri": "https://localhost:8080/"
        },
        "outputId": "ebe142cd-e48c-4e7d-9a22-070e6a03130c"
      },
      "execution_count": null,
      "outputs": [
        {
          "output_type": "stream",
          "name": "stdout",
          "text": [
            "mylist is not empty\n"
          ]
        }
      ]
    },
    {
      "cell_type": "markdown",
      "source": [
        "6. Write a Python program to filter the list if the length of the character is < 4\n",
        "\n",
        "```\n",
        "Sample List : ['abc', 'xyz', 'aba', '1221']\n",
        "Expected Result: ['abc', 'xyz', 'aba']\n",
        "```\n"
      ],
      "metadata": {
        "id": "HPq-j6_5L6Bu"
      }
    },
    {
      "cell_type": "code",
      "source": [
        "mylist=['abc', 'xyz', 'aba', '1221']\n",
        "result=[]\n",
        "for i in mylist:\n",
        "  if len(i)<4:\n",
        "    result.append(i)\n",
        "print(result)\n"
      ],
      "metadata": {
        "id": "e0Rk_iusL-Du",
        "outputId": "4ecada8c-adc8-463c-f3f8-32d191319bb4",
        "colab": {
          "base_uri": "https://localhost:8080/"
        }
      },
      "execution_count": null,
      "outputs": [
        {
          "output_type": "stream",
          "name": "stdout",
          "text": [
            "['abc', 'xyz', 'aba']\n"
          ]
        }
      ]
    },
    {
      "cell_type": "markdown",
      "source": [
        "7.Write a Python program to find the second largest number in a list.\n"
      ],
      "metadata": {
        "id": "0Vo0Eo4GL_2N"
      }
    },
    {
      "cell_type": "code",
      "source": [
        "mylist=[1,6,4,8,18,22,3]\n",
        "mylist.sort()\n",
        "print(mylist[-2])"
      ],
      "metadata": {
        "id": "uIB8bq0IMAYB",
        "outputId": "c6d72445-f7b2-4ce9-da1e-e01b663e7bb9",
        "colab": {
          "base_uri": "https://localhost:8080/"
        }
      },
      "execution_count": null,
      "outputs": [
        {
          "output_type": "stream",
          "name": "stdout",
          "text": [
            "18\n"
          ]
        }
      ]
    },
    {
      "cell_type": "markdown",
      "source": [
        "8. Write a Python program to reverse a list at a specific location.\n"
      ],
      "metadata": {
        "id": "aManSXvqMBoz"
      }
    },
    {
      "cell_type": "code",
      "source": [
        "mylist=[1,6,4,8,18,22,3]\n",
        "loc =4\n",
        "list1=mylist[0:loc-1]\n",
        "list2=mylist[loc-1:]\n",
        "list2.reverse()\n",
        "print(list1+list2)"
      ],
      "metadata": {
        "id": "6-xOhDjGMCO4",
        "outputId": "ed70eb5b-49e2-46c7-be95-a17f84c94764",
        "colab": {
          "base_uri": "https://localhost:8080/"
        }
      },
      "execution_count": null,
      "outputs": [
        {
          "output_type": "stream",
          "name": "stdout",
          "text": [
            "[1, 6, 4, 3, 22, 18, 8]\n"
          ]
        }
      ]
    },
    {
      "cell_type": "markdown",
      "source": [
        "9. Write a Python program to check if a list is a palindrome or not. Return true otherwise false.\n"
      ],
      "metadata": {
        "id": "-mIvdmfVMCyV"
      }
    },
    {
      "cell_type": "code",
      "source": [
        "list1=[1,6,5,4,5,6,1]\n",
        "list2=list1.copy()\n",
        "list1.reverse()\n",
        "if list1==list2:\n",
        "  print(\"true\")\n",
        "else:\n",
        "  print(\"false\")"
      ],
      "metadata": {
        "id": "128bnAjHMD_6",
        "outputId": "5b8cc04e-2af4-4f01-fc5e-0394f1cd6f28",
        "colab": {
          "base_uri": "https://localhost:8080/"
        }
      },
      "execution_count": null,
      "outputs": [
        {
          "output_type": "stream",
          "name": "stdout",
          "text": [
            "true\n"
          ]
        }
      ]
    },
    {
      "cell_type": "markdown",
      "source": [
        "10. Write a Python a program to find the union and intersection of two lists.\n"
      ],
      "metadata": {
        "id": "r_OaahEUMFk9"
      }
    },
    {
      "cell_type": "code",
      "source": [
        "l1= [1,2,3,4,9,10]\n",
        "l2= [2,4,6,8,]\n",
        "set1=set(l1)\n",
        "set2=set(l2)\n",
        "\n",
        "un_set = set1.union(set2)\n",
        "int_set = set1.intersection(set2)\n",
        "\n",
        "print(\"Union list:\",list[un_set])\n",
        "print(\"Intersection list:\",list[int_set])\n",
        "\n"
      ],
      "metadata": {
        "colab": {
          "base_uri": "https://localhost:8080/"
        },
        "id": "UjPARFKbf_Ro",
        "outputId": "fa039a48-1bb4-42d5-ef5c-534463221cd9"
      },
      "execution_count": null,
      "outputs": [
        {
          "output_type": "stream",
          "name": "stdout",
          "text": [
            "Union list: list[{1, 2, 3, 4, 6, 8, 9, 10}]\n",
            "Intersection list: list[{2, 4}]\n"
          ]
        }
      ]
    },
    {
      "cell_type": "markdown",
      "source": [
        "11.Write a Python script to sort (ascending and descending) a dictionary by value\n"
      ],
      "metadata": {
        "id": "O_KaZq9mMHMo"
      }
    },
    {
      "cell_type": "code",
      "source": [
        "mydict={2:\"pen\",3:\"pencil\",5:\"book\",1:\"bag\"}\n",
        "sorted(mydict.values())"
      ],
      "metadata": {
        "id": "iMEgBD_5MHe5",
        "colab": {
          "base_uri": "https://localhost:8080/"
        },
        "outputId": "69758c81-6307-443f-e0fd-5ca34f09b271"
      },
      "execution_count": null,
      "outputs": [
        {
          "output_type": "execute_result",
          "data": {
            "text/plain": [
              "['bag', 'book', 'pen', 'pencil']"
            ]
          },
          "metadata": {},
          "execution_count": 13
        }
      ]
    },
    {
      "cell_type": "markdown",
      "source": [
        "12. Write a Python script to check whether a given key already exists in a dictionary.\n"
      ],
      "metadata": {
        "id": "LRtPwyETMJFB"
      }
    },
    {
      "cell_type": "code",
      "source": [
        "my_dict = {'name' : 'akshith', 'age' : 21, 'place' : 'kerala'}\n",
        "if 'name' in my_dict:\n",
        "  print('already exist')\n",
        "else:\n",
        "  print('not exist')\n"
      ],
      "metadata": {
        "id": "CzQHm4IWMJX5",
        "colab": {
          "base_uri": "https://localhost:8080/"
        },
        "outputId": "079863fa-1843-4c98-df27-15e072f29087"
      },
      "execution_count": null,
      "outputs": [
        {
          "output_type": "stream",
          "name": "stdout",
          "text": [
            "already exist\n"
          ]
        }
      ]
    },
    {
      "cell_type": "markdown",
      "source": [
        "13.Write a Python program to sum all the values in a dictionary.\n"
      ],
      "metadata": {
        "id": "ndM9xtBpMK7b"
      }
    },
    {
      "cell_type": "code",
      "source": [
        "dict={'a':4,'b':2,'c':7,'d':1}\n",
        "values=dict.values()\n",
        "sum=0\n",
        "for i in values:\n",
        "  sum+=i\n",
        "print(sum)"
      ],
      "metadata": {
        "id": "-UBNCNxbMLNa",
        "colab": {
          "base_uri": "https://localhost:8080/"
        },
        "outputId": "52df6b0a-4acf-4df0-cfb4-8e884fa4ef3f"
      },
      "execution_count": null,
      "outputs": [
        {
          "output_type": "stream",
          "name": "stdout",
          "text": [
            "14\n"
          ]
        }
      ]
    },
    {
      "cell_type": "markdown",
      "source": [
        "14.Write a Python program to create a dictionary with a number and its corresponding square from 1 to input number. And also check if the input number is less than 10\n",
        "\n",
        "```\n",
        "Eg:\n",
        "Input : 3\n",
        "Output : {1:1, 2:4, 3:9}\n",
        "```"
      ],
      "metadata": {
        "id": "0qVfQATqMNdJ"
      }
    },
    {
      "cell_type": "code",
      "source": [
        "num = int(input('Enter a value:'))\n",
        "my_dict = { i:i **2 for i in range(1, num + 1)}\n",
        "print(my_dict)"
      ],
      "metadata": {
        "id": "XCkHf-OvMPVf",
        "colab": {
          "base_uri": "https://localhost:8080/"
        },
        "outputId": "5c3dd5ce-241b-4984-cfd7-84c2b6f2cbd9"
      },
      "execution_count": null,
      "outputs": [
        {
          "output_type": "stream",
          "name": "stdout",
          "text": [
            "Enter a value:3\n",
            "{1: 1, 2: 4, 3: 9}\n"
          ]
        }
      ]
    },
    {
      "cell_type": "markdown",
      "source": [
        "15.Write a Python program to sort a given dictionary by key.\n"
      ],
      "metadata": {
        "id": "5Ku1ZCBMMRGO"
      }
    },
    {
      "cell_type": "code",
      "source": [
        "my_dict = {\"banana\": 5,\"apple\":2,\"orange\":8,\"grapes\":3,\"jackfruit\":5}\n",
        "sorted_dic={}\n",
        "sorted_key=sorted(my_dict.keys())\n",
        "for i in sorted_key:\n",
        "    sorted_dic[i]=my_dict[i]\n",
        "\n",
        "print(sorted_dic)"
      ],
      "metadata": {
        "id": "Uo1ha3q4MRaG",
        "colab": {
          "base_uri": "https://localhost:8080/"
        },
        "outputId": "68e7a4ac-1539-4886-a511-2fadaf0eb509"
      },
      "execution_count": null,
      "outputs": [
        {
          "output_type": "stream",
          "name": "stdout",
          "text": [
            "{'apple': 2, 'banana': 5, 'grapes': 3, 'jackfruit': 5, 'orange': 8}\n"
          ]
        }
      ]
    },
    {
      "cell_type": "markdown",
      "source": [
        "16.  Write a Python program to create a dictionary from a string.\n",
        "\n",
        "```\n",
        "Note: Track the count of the letters from the string.\n",
        "Sample string : 'learnpython'\n",
        "Expected output: {'l': 1, 'e': 1, 'a': 1, 'r': 1, 'n': 2, 'p': 1, 'y': 1, 't': 1, 'h': 1, 'o': 1}\n",
        "\n",
        "```"
      ],
      "metadata": {
        "id": "VFB6DT7uMTCo"
      }
    },
    {
      "cell_type": "code",
      "source": [
        "string = \"hello\"\n",
        "my_dict = {}\n",
        "for letter in string:\n",
        "  my_dict[letter] = my_dict.get(letter, 0) + 1\n",
        "\n",
        "print(my_dict)"
      ],
      "metadata": {
        "id": "Pst-k-SZMTUo",
        "colab": {
          "base_uri": "https://localhost:8080/"
        },
        "outputId": "f5119e12-b6af-4fa0-dde4-bf85e8608aee"
      },
      "execution_count": null,
      "outputs": [
        {
          "output_type": "stream",
          "name": "stdout",
          "text": [
            "{'h': 1, 'e': 1, 'l': 2, 'o': 1}\n"
          ]
        }
      ]
    },
    {
      "cell_type": "markdown",
      "source": [
        "17. Write a Python program to get the top three items in a shop.\n",
        "\n",
        "```\n",
        "Sample data: {'item1': 45.50, 'item2':35, 'item3': 41.30, 'item4':55, 'item5': 24}\n",
        "\n",
        "Expected Output:\n",
        "item4 55\n",
        "item1 45.5\n",
        "item3 41.3\n",
        "```\n"
      ],
      "metadata": {
        "id": "OnYknUtWMYSr"
      }
    },
    {
      "cell_type": "code",
      "source": [
        "data={'item1': 45.50, 'item2':35, 'item3': 41.30, 'item4':55, 'item5': 24}\n",
        "values=data.values()\n",
        "values=list(values)\n",
        "values.sort()\n",
        "a=values[-3:]\n",
        "a.reverse()\n",
        "for k,v in data.items():\n",
        "  if v in a:\n",
        "    print(k,v)\n"
      ],
      "metadata": {
        "id": "NJhUygp3sskx",
        "colab": {
          "base_uri": "https://localhost:8080/"
        },
        "outputId": "e5ac69fe-e133-4093-ded5-6c0b16cb7eed"
      },
      "execution_count": null,
      "outputs": [
        {
          "output_type": "stream",
          "name": "stdout",
          "text": [
            "item1 45.5\n",
            "item3 41.3\n",
            "item4 55\n"
          ]
        }
      ]
    }
  ]
}
