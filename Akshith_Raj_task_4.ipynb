{
  "nbformat": 4,
  "nbformat_minor": 0,
  "metadata": {
    "colab": {
      "provenance": []
    },
    "kernelspec": {
      "name": "python3",
      "display_name": "Python 3"
    },
    "language_info": {
      "name": "python"
    }
  },
  "cells": [
    {
      "cell_type": "markdown",
      "source": [
        "1. Write a Python program to check that a string contains only a certain set of characters (in this case a-z, A-Z and 0-9).\n",
        "\n"
      ],
      "metadata": {
        "id": "fpQX9wBhb6ox"
      }
    },
    {
      "cell_type": "code",
      "execution_count": 4,
      "metadata": {
        "id": "5HKhizIkbt59",
        "colab": {
          "base_uri": "https://localhost:8080/"
        },
        "outputId": "3894716e-16d5-4d34-aca4-336e539755db"
      },
      "outputs": [
        {
          "output_type": "stream",
          "name": "stdout",
          "text": [
            "Enter a string:Aks185\n",
            "Given string contains only a-z, A-Z and 0-9 characters\n"
          ]
        }
      ],
      "source": [
        "import re\n",
        "string=input(\"Enter a string:\")\n",
        "pattern=re.compile(r'^[a-zA-Z0-9]+$')\n",
        "\n",
        "def match_pattern(s):\n",
        "  if pattern.match(s):\n",
        "     print(\"Given string contains only a-z, A-Z and 0-9 characters\")\n",
        "  else:\n",
        "     print(\"Given string contains characters other than a-z, A-Z and 0-9\")\n",
        "\n",
        "match_pattern(string)"
      ]
    },
    {
      "cell_type": "markdown",
      "source": [
        "2. Write a Python program that matches a string that has an 'a' followed by zero or more 'b's.\n",
        "\n"
      ],
      "metadata": {
        "id": "rtdxRzltcRtS"
      }
    },
    {
      "cell_type": "code",
      "source": [
        "import re\n",
        "string=[\"abbb\",\"abfjk\",\"ab\",\"fcbbb\"]\n",
        "print(\"String:\",string)\n",
        "pattern=re.compile(r'ab*$')\n",
        "\n",
        "def match_pattern(string):\n",
        "  for s in string:\n",
        "       if pattern.match(s):\n",
        "           print(f\"The string '{s}' has an 'a' followed by zero or more b's\")\n",
        "       else:\n",
        "           print(f\"The string '{s}' does not match the pattern\")\n",
        "\n",
        "match_pattern(string)"
      ],
      "metadata": {
        "id": "ZjdCBYZAcZGl",
        "colab": {
          "base_uri": "https://localhost:8080/"
        },
        "outputId": "b7901740-712a-46f3-a3a3-add7d15d3db2"
      },
      "execution_count": 9,
      "outputs": [
        {
          "output_type": "stream",
          "name": "stdout",
          "text": [
            "String: ['abbb', 'abfjk', 'ab', 'fcbbb']\n",
            "The string 'abbb' has an 'a' followed by zero or more b's\n",
            "The string 'abfjk' does not match the pattern\n",
            "The string 'ab' has an 'a' followed by zero or more b's\n",
            "The string 'fcbbb' does not match the pattern\n"
          ]
        }
      ]
    },
    {
      "cell_type": "markdown",
      "source": [
        "3. Replace only the first occurrence of 5 with five for the given string\n",
        "\n"
      ],
      "metadata": {
        "id": "kyvbz3eNcZri"
      }
    },
    {
      "cell_type": "code",
      "source": [
        "import re\n",
        "\n",
        "ip= 'They ate 5 apples and 5 oranges'\n",
        "op = re.sub(r'5', 'five', ip, count=1)\n",
        "\n",
        "print(op)"
      ],
      "metadata": {
        "id": "pgZy45dxcqSg",
        "colab": {
          "base_uri": "https://localhost:8080/"
        },
        "outputId": "00139709-a282-4e55-ff38-caa1e757801f"
      },
      "execution_count": 10,
      "outputs": [
        {
          "output_type": "stream",
          "name": "stdout",
          "text": [
            "They ate five apples and 5 oranges\n"
          ]
        }
      ]
    },
    {
      "cell_type": "markdown",
      "source": [
        "4. Write a Python program that matches a string that has an a followed by three 'b'.\n",
        "\n"
      ],
      "metadata": {
        "id": "h_b1-o6ncuzM"
      }
    },
    {
      "cell_type": "code",
      "source": [
        "import re\n",
        "string=[\"abbb\",\"ab\",\"fabbb\"]\n",
        "print(\"String:\",string)\n",
        "pattern=re.compile(r'ab*$')\n",
        "\n",
        "def match_pattern(string):\n",
        "  for s in string:\n",
        "       if pattern.match(s):\n",
        "           print(f\"The string '{s}' has an 'a' followed by three b\")\n",
        "       else:\n",
        "           print(f\"The string '{s}' does not match the pattern\")\n",
        "\n",
        "match_pattern(string)"
      ],
      "metadata": {
        "id": "eWIRl3LccqwE",
        "colab": {
          "base_uri": "https://localhost:8080/"
        },
        "outputId": "78ea6c2a-f5e0-4e64-b332-148877e479e1"
      },
      "execution_count": 14,
      "outputs": [
        {
          "output_type": "stream",
          "name": "stdout",
          "text": [
            "String: ['abbb', 'ab', 'fabbb']\n",
            "The string 'abbb' has an 'a' followed by three b\n",
            "The string 'ab' has an 'a' followed by three b\n",
            "The string 'fabbb' does not match the pattern\n"
          ]
        }
      ]
    },
    {
      "cell_type": "markdown",
      "source": [
        "5. Write a Python program that matches a string that has an 'a' followed by anything ending in 'b'.\n",
        "\n"
      ],
      "metadata": {
        "id": "K2vPe01bc2LN"
      }
    },
    {
      "cell_type": "code",
      "source": [
        "import re\n",
        "string=[\"ar1b\",\"abc_2\",\"ab_1.b\"]\n",
        "print(\"String:\",string)\n",
        "pattern=re.compile(r'a[\\w\\.-]*b$')\n",
        "\n",
        "def match_pattern(string):\n",
        "  for s in string:\n",
        "       if pattern.match(s):\n",
        "           print(f\"The string '{s}' has an 'a' followed by anything ending in b\")\n",
        "       else:\n",
        "           print(f\"The string '{s}' does not match the pattern\")\n",
        "\n",
        "match_pattern(string)\n"
      ],
      "metadata": {
        "id": "f8KfX59qc3UJ",
        "colab": {
          "base_uri": "https://localhost:8080/"
        },
        "outputId": "2610b7fc-288f-4b17-a416-3bf0efca4148"
      },
      "execution_count": 17,
      "outputs": [
        {
          "output_type": "stream",
          "name": "stdout",
          "text": [
            "String: ['ar1b', 'abc_2', 'ab_1.b']\n",
            "The string 'ar1b' has an 'a' followed by anything ending in b\n",
            "The string 'abc_2' does not match the pattern\n",
            "The string 'ab_1.b' has an 'a' followed by anything ending in b\n"
          ]
        }
      ]
    },
    {
      "cell_type": "markdown",
      "source": [
        "6. Write a Python program to search for numbers (0-9) of length between 1 and 3 in a given string."
      ],
      "metadata": {
        "id": "NyL-DhqXdZi7"
      }
    },
    {
      "cell_type": "code",
      "source": [
        "import re\n",
        "txt=\"Exercises number 1, 12, 13, 54587,4526 and 345 are important\"\n",
        "output=re.findall(r'\\b\\d{1,3}\\b',txt)\n",
        "print(output)"
      ],
      "metadata": {
        "id": "pWsu0HljdnKX",
        "colab": {
          "base_uri": "https://localhost:8080/"
        },
        "outputId": "61541bc5-6f03-496a-9b64-6f6e42d2cbb0"
      },
      "execution_count": 19,
      "outputs": [
        {
          "output_type": "stream",
          "name": "stdout",
          "text": [
            "['1', '12', '13', '345']\n"
          ]
        }
      ]
    },
    {
      "cell_type": "markdown",
      "source": [
        "7. Write a Python program to search for literal strings within a string.\\\n",
        "Sample text : 'The quick brown fox jumps over the lazy dog.' \\\n",
        "Searched words : 'fox', 'dog', 'horse'"
      ],
      "metadata": {
        "id": "aWaHWXFjdqy7"
      }
    },
    {
      "cell_type": "code",
      "source": [
        "import re\n",
        "sample_text = 'The quick brown fox jumps over the lazy dog.'\n",
        "searched_words = ['fox', 'dog', 'horse']\n",
        "\n",
        "def search_strings_regex(main_string, searched_words):\n",
        "    found_words = []\n",
        "\n",
        "    for word in searched_words:\n",
        "        pattern = re.compile(r'\\b' + re.escape(word) + r'\\b')\n",
        "        if re.search(pattern, main_string):\n",
        "            found_words.append(word)\n",
        "\n",
        "    return found_words\n",
        "\n",
        "\n",
        "result = search_strings_regex(sample_text, searched_words)\n",
        "\n",
        "print(f\"Sample text: '{sample_text}'\")\n",
        "print(f\"Searched words: {searched_words}\")\n",
        "print(f\"Found words: {result}\")\n"
      ],
      "metadata": {
        "id": "bVAMeTMddnmf",
        "colab": {
          "base_uri": "https://localhost:8080/"
        },
        "outputId": "bdcf1375-724c-4e78-88df-5bfecb0fa119"
      },
      "execution_count": 20,
      "outputs": [
        {
          "output_type": "stream",
          "name": "stdout",
          "text": [
            "Sample text: 'The quick brown fox jumps over the lazy dog.'\n",
            "Searched words: ['fox', 'dog', 'horse']\n",
            "Found words: ['fox', 'dog']\n"
          ]
        }
      ]
    },
    {
      "cell_type": "markdown",
      "source": [
        "8. Write a Python program to search for a literal string in a string and also find the location within the original string where the pattern occurs.\n",
        "\n",
        "Sample text : 'The quick brown fox jumps over the lazy dog.' \\\n",
        "Searched words : 'fox'"
      ],
      "metadata": {
        "id": "2cgZLc6Yd0sE"
      }
    },
    {
      "cell_type": "code",
      "source": [
        "import re\n",
        "\n",
        "def string_location(main_string, searched_word):\n",
        "    pattern = re.compile(re.escape(searched_word))\n",
        "    matches = pattern.finditer(main_string)\n",
        "\n",
        "    locations = [match.start() for match in matches]\n",
        "\n",
        "    return locations\n",
        "\n",
        "sample_text = 'The quick brown fox jumps over the lazy dog.'\n",
        "searched_word = 'fox'\n",
        "\n",
        "result_locations = string_location(sample_text, searched_word)\n",
        "\n",
        "print(f\"Sample text: '{sample_text}'\")\n",
        "print(f\"Searched word: '{searched_word}'\")\n",
        "if result_locations:\n",
        "    print(f\"Found at positions: {result_locations}\")\n",
        "else:\n",
        "    print(\"Word not found in the sample text.\")\n"
      ],
      "metadata": {
        "id": "Tj1FCCx4d3zZ",
        "colab": {
          "base_uri": "https://localhost:8080/"
        },
        "outputId": "403337c2-aba0-40ce-ca7d-e11c5295cd6c"
      },
      "execution_count": 21,
      "outputs": [
        {
          "output_type": "stream",
          "name": "stdout",
          "text": [
            "Sample text: 'The quick brown fox jumps over the lazy dog.'\n",
            "Searched word: 'fox'\n",
            "Found at positions: [16]\n"
          ]
        }
      ]
    },
    {
      "cell_type": "markdown",
      "source": [
        "9.  Write a Python program to extract year, month and date from an URL"
      ],
      "metadata": {
        "id": "ixuwdsnvdtcP"
      }
    },
    {
      "cell_type": "code",
      "source": [
        "import re\n",
        "url1= \"https://www.washingtonpost.com/news/football-insider/wp/2016/09/02/odell-beckhams-fame-rests-on-one-stupid-little-ball-josh-norman-tells-author/\"\n",
        "\n",
        "p=re.compile('(\\d{4})/(\\d{2})/(\\d{2})/')\n",
        "date=p.findall(url1)\n",
        "print(\"Date:\",date)\n",
        "\n",
        "if date:\n",
        "   extracted_date= date[0]\n",
        "else:\n",
        "     None\n",
        "\n",
        "if extracted_date:\n",
        "    year, month, day = extracted_date\n",
        "    print(f\"Year: {year}\")\n",
        "    print(f\"Month: {month}\")\n",
        "    print(f\"Day: {day}\")\n",
        "else:\n",
        "    print(\"No valid date pattern found in the URL.\")\n"
      ],
      "metadata": {
        "id": "uWA2_OfJeFpw",
        "colab": {
          "base_uri": "https://localhost:8080/"
        },
        "outputId": "2bcff7a7-dfa9-4025-a452-0ba32de66188"
      },
      "execution_count": 22,
      "outputs": [
        {
          "output_type": "stream",
          "name": "stdout",
          "text": [
            "Date: [('2016', '09', '02')]\n",
            "Year: 2016\n",
            "Month: 09\n",
            "Day: 02\n"
          ]
        }
      ]
    },
    {
      "cell_type": "markdown",
      "source": [
        "10. Write a Python program to find URLs in a string.\n",
        "\n"
      ],
      "metadata": {
        "id": "Qdob8Ojkea-W"
      }
    },
    {
      "cell_type": "code",
      "source": [
        "import re\n",
        "\n",
        "def find_urls(text):\n",
        "    url_pattern = r'https?://\\S+'\n",
        "\n",
        "    urls = re.findall(url_pattern, text)\n",
        "\n",
        "    if urls:\n",
        "        for url in urls:\n",
        "            print(url)\n",
        "    else:\n",
        "        print(\"No URLs found in the text.\")\n",
        "\n",
        "text = '<p>Contents :</p><a href=\"https://w3resource.com\">Python Examples</a><a href=\"http://github.com\">Even More Examples</a>'\n",
        "\n",
        "find_urls(text)\n",
        "\n"
      ],
      "metadata": {
        "id": "d9KUcdQEeIJu",
        "colab": {
          "base_uri": "https://localhost:8080/"
        },
        "outputId": "c44343b7-d5cb-45c3-e555-53c62f19e778"
      },
      "execution_count": 24,
      "outputs": [
        {
          "output_type": "stream",
          "name": "stdout",
          "text": [
            "https://w3resource.com\">Python\n",
            "http://github.com\">Even\n"
          ]
        }
      ]
    },
    {
      "cell_type": "markdown",
      "source": [
        "11. Write a Python program to remove the parenthesis area in a string.\\\n",
        "\n",
        "Sample data : [\"example (.com)\", \"w3resource\", \"github (.com)\", \"stackoverflow (.com)\"] \\\n",
        "Expected Output: \\\n",
        "example  \\\n",
        "w3resource \\\n",
        "github  \\\n",
        "stackoverflow. \\\n",
        "\n"
      ],
      "metadata": {
        "id": "5mX_cCEFepSi"
      }
    },
    {
      "cell_type": "code",
      "source": [
        "import re\n",
        "\n",
        "def remove_parenthesis_area(data):\n",
        "    result = []\n",
        "    for item in data:\n",
        "        cleaned_item = re.sub(r'\\s*\\([^)]*\\)\\s*', '', item)\n",
        "        result.append(cleaned_item)\n",
        "\n",
        "    return result\n",
        "\n",
        "sample_data = [\"example (.com)\", \"w3resource\", \"github (.com)\", \"stackoverflow (.com)\"]\n",
        "\n",
        "result = remove_parenthesis_area(sample_data)\n",
        "\n",
        "for item in result:\n",
        "    print(item)\n"
      ],
      "metadata": {
        "id": "CNYOSWfLee_M",
        "colab": {
          "base_uri": "https://localhost:8080/"
        },
        "outputId": "2d694a6c-1c92-463a-cd8a-0d085ae6d521"
      },
      "execution_count": 25,
      "outputs": [
        {
          "output_type": "stream",
          "name": "stdout",
          "text": [
            "example\n",
            "w3resource\n",
            "github\n",
            "stackoverflow\n"
          ]
        }
      ]
    },
    {
      "cell_type": "markdown",
      "source": [
        "12. Write a Python program to concatenate the consecutive numbers in a given string. \\\n",
        "\n",
        "Original string:  \\\n",
        "Enter at 1 20 Kearny Street. The security desk can direct you to floor 1 6. Please have your identification ready.  \\\n",
        "\n",
        "After concatenating the consecutive numbers in the said string:  \\\n",
        "Enter at 120 Kearny Street. The security desk can direct you to floor 16. Please have your identification ready."
      ],
      "metadata": {
        "id": "sRhveFHXe7nz"
      }
    },
    {
      "cell_type": "code",
      "source": [
        "import re\n",
        "\n",
        "def concatenate_consecutive_numbers(input_string):\n",
        "    pattern = re.compile(r'\\b(\\d+)\\s+(\\d+)\\b')\n",
        "\n",
        "    modified_string = pattern.sub(lambda match: match.group(1) + match.group(2), input_string)\n",
        "\n",
        "    return modified_string\n",
        "\n",
        "original_string = \"Enter at 1 20 Kearny Street. The security desk can direct you to floor 1 6. Please have your identification ready.\"\n",
        "\n",
        "result_string = concatenate_consecutive_numbers(original_string)\n",
        "print(\"\\nAfter concatenating the consecutive numbers:\")\n",
        "print(result_string)\n"
      ],
      "metadata": {
        "id": "4dcBL0RTe_zP",
        "colab": {
          "base_uri": "https://localhost:8080/"
        },
        "outputId": "0a491d50-ee85-4875-cd2c-040ad4c79229"
      },
      "execution_count": 26,
      "outputs": [
        {
          "output_type": "stream",
          "name": "stdout",
          "text": [
            "\n",
            "After concatenating the consecutive numbers:\n",
            "Enter at 120 Kearny Street. The security desk can direct you to floor 16. Please have your identification ready.\n"
          ]
        }
      ]
    },
    {
      "cell_type": "markdown",
      "source": [],
      "metadata": {
        "id": "rENrD10afBB3"
      }
    }
  ]
}